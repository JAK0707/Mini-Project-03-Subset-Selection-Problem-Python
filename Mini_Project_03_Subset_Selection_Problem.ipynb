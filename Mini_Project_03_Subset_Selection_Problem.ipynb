{
  "nbformat": 4,
  "nbformat_minor": 0,
  "metadata": {
    "colab": {
      "provenance": [],
      "include_colab_link": true
    },
    "kernelspec": {
      "display_name": "Python 3",
      "language": "python",
      "name": "python3"
    },
    "language_info": {
      "codemirror_mode": {
        "name": "ipython",
        "version": 3
      },
      "file_extension": ".py",
      "mimetype": "text/x-python",
      "name": "python",
      "nbconvert_exporter": "python",
      "pygments_lexer": "ipython3",
      "version": "3.8.5"
    }
  },
  "cells": [
    {
      "cell_type": "markdown",
      "metadata": {
        "id": "view-in-github",
        "colab_type": "text"
      },
      "source": [
        "<a href=\"https://colab.research.google.com/github/JAK0707/Mini-Project-03-Subset-Selection-Problem-Python/blob/main/Mini_Project_03_Subset_Selection_Problem.ipynb\" target=\"_parent\"><img src=\"https://colab.research.google.com/assets/colab-badge.svg\" alt=\"Open In Colab\"/></a>"
      ]
    },
    {
      "cell_type": "markdown",
      "metadata": {
        "id": "7nQSRI4Dim1Y"
      },
      "source": [
        "  ---\n",
        "# **Subset Selection Problem**\n",
        "---\n",
        "####**1. Problem Statement:**\n",
        "Find all the subsets from a set of numbers whose sum is zero.\n",
        "\n",
        "####**Constraint: Subset size must be 5**\n",
        "Set={-12, -3, -6, 7, 2, -2, 6, 3, 9, -7, -5, -8, 1, 11, -9, -4}\n",
        "\n",
        "---"
      ]
    },
    {
      "cell_type": "markdown",
      "metadata": {
        "id": "A30y-VtNim1h"
      },
      "source": [
        "### **1.1 Library inclusion**"
      ]
    },
    {
      "cell_type": "code",
      "metadata": {
        "id": "cF_mSA9Xim1j"
      },
      "source": [
        "import random as r"
      ],
      "execution_count": 1,
      "outputs": []
    },
    {
      "cell_type": "markdown",
      "metadata": {
        "id": "UjvBYy0Lim1m"
      },
      "source": [
        "### **1.2 Parameter Setting**"
      ]
    },
    {
      "cell_type": "code",
      "metadata": {
        "id": "NHB2KMhZim1o"
      },
      "source": [
        "Set         = set([-12, -3, -6, 7, 2, -2, 6, 3, 9, -7, -5, -8, 1, 11, -9, -4])\n",
        "SetSize     = 5\n",
        "ResultList  = set()    # Store Result List i.e. list of sets whose sum is zero\n",
        "Iterations  = 1000    # Number of Inerations"
      ],
      "execution_count": 2,
      "outputs": []
    },
    {
      "cell_type": "markdown",
      "metadata": {
        "id": "BTLd3s--im1c"
      },
      "source": [
        "### **1.3 Start Program**\n",
        "\n",
        "\n"
      ]
    },
    {
      "cell_type": "code",
      "metadata": {
        "id": "veBU-f21im1x",
        "outputId": "6907aa9b-1e25-4a6b-b4fe-05340d5ce0dc",
        "colab": {
          "base_uri": "https://localhost:8080/"
        }
      },
      "source": [
        "# Loop till number of Iterations\n",
        "for i in range(Iterations):\n",
        "    # Select number of elements from Set\n",
        "    Chromosome = r.sample(Set,SetSize)\n",
        "\n",
        "    # Sum the number of elements in the Chromosome\n",
        "    if sum(Chromosome) == 0:\n",
        "        ResultList.add(tuple(Chromosome))"
      ],
      "execution_count": 3,
      "outputs": [
        {
          "output_type": "stream",
          "name": "stderr",
          "text": [
            "<ipython-input-3-ed7c48dd8d3e>:4: DeprecationWarning: Sampling from a set deprecated\n",
            "since Python 3.9 and will be removed in a subsequent version.\n",
            "  Chromosome = r.sample(Set,SetSize)\n"
          ]
        }
      ]
    },
    {
      "cell_type": "markdown",
      "metadata": {
        "id": "nRWYsJNVim1z"
      },
      "source": [
        "### **1.4 Print the sets and total count**\n"
      ]
    },
    {
      "cell_type": "code",
      "metadata": {
        "colab": {
          "base_uri": "https://localhost:8080/"
        },
        "id": "41abL1k-im10",
        "scrolled": true,
        "outputId": "1946c9d8-99b8-4be6-bd03-f19b46ba8b1f"
      },
      "source": [
        "# Print all the sets whose sum is zero\n",
        "for r in ResultList:\n",
        "\tprint (r)\n",
        "\n",
        "# Print total sets\n",
        "print (\"\\nTotal Sets: \", len(ResultList), \"\\n\")"
      ],
      "execution_count": 4,
      "outputs": [
        {
          "output_type": "stream",
          "name": "stdout",
          "text": [
            "(-12, 9, -6, 7, 2)\n",
            "(-8, 7, 9, 1, -9)\n",
            "(-8, -3, 3, 1, 7)\n",
            "(7, -5, -4, -9, 11)\n",
            "(7, -6, -4, 11, -8)\n",
            "(-4, -5, 2, -2, 9)\n",
            "(9, 1, -5, -7, 2)\n",
            "(-2, -4, 11, -7, 2)\n",
            "(-8, 9, -3, 11, -9)\n",
            "(-12, -8, 2, 11, 7)\n",
            "(-7, 2, 6, -12, 11)\n",
            "(-8, -5, 9, 7, -3)\n",
            "(-2, -3, 3, 7, -5)\n",
            "(-7, 9, 7, 3, -12)\n",
            "(11, -3, 3, -6, -5)\n",
            "(-5, 11, 9, -8, -7)\n",
            "(7, -7, 11, 1, -12)\n",
            "(2, -5, 3, -9, 9)\n",
            "(-9, -3, 11, -6, 7)\n",
            "(-4, -2, 3, -6, 9)\n",
            "(-5, 9, 11, -7, -8)\n",
            "(7, -7, -4, 6, -2)\n",
            "(11, 6, -2, -6, -9)\n",
            "(2, -4, 11, -2, -7)\n",
            "(9, -7, -5, -8, 11)\n",
            "(-12, -3, 6, 2, 7)\n",
            "(1, 7, 9, -5, -12)\n",
            "(-9, 2, 11, 1, -5)\n",
            "(-8, 11, -12, 6, 3)\n",
            "(-6, -2, 9, 7, -8)\n",
            "(-9, 11, 9, -6, -5)\n",
            "(-6, -9, -3, 7, 11)\n",
            "(-6, -2, -4, 3, 9)\n",
            "\n",
            "Total Sets:  33 \n",
            "\n"
          ]
        }
      ]
    },
    {
      "cell_type": "markdown",
      "metadata": {
        "id": "E3BNV7YLim12"
      },
      "source": [
        "---\n",
        "### **1.5 Complete Program**\n",
        "---"
      ]
    },
    {
      "cell_type": "code",
      "metadata": {
        "colab": {
          "base_uri": "https://localhost:8080/"
        },
        "id": "c6KthRB9im14",
        "outputId": "bb604beb-10f6-43eb-a9a4-3512f0a0da35"
      },
      "source": [
        "#-------------------------------------------------------------\n",
        "# Step 1: Library inclusion\n",
        "#-------------------------------------------------------------\n",
        "import random as r\n",
        "\n",
        "\n",
        "#-------------------------------------------------------------\n",
        "# Step 2: Parameter Setting\n",
        "#-------------------------------------------------------------\n",
        "Set         = set([-12, -3, -6, 7, 2, -2, 6, 3, 9, -7, -5, -8, 1, 11, -9, -4])\n",
        "SetSize     = 5\n",
        "ResultList  = set()    # Store Result List i.e. list of sets whose sum is zero\n",
        "Iterations  = 1000   # Number of Inerations\n",
        "\n",
        "\n",
        "#-------------------------------------------------------------\n",
        "# Step3: Start Program\n",
        "#-------------------------------------------------------------\n",
        "\n",
        "# Loop till number of Iterations\n",
        "for i in range(Iterations):\n",
        "    # Select number of elements from Set\n",
        "    Chromosome = r.sample(Set,SetSize)\n",
        "\n",
        "    # Sum the number of elements in the Chromosome\n",
        "    if sum(Chromosome) == 0:\n",
        "        ResultList.add(tuple(Chromosome))\n",
        "\n",
        "# Print all the sets whose sum is zero\n",
        "for r in ResultList:\n",
        "\tprint (r)\n",
        "\n",
        "# Print total sets\n",
        "print (\"\\nTotal Sets: \", len(ResultList))\n"
      ],
      "execution_count": 5,
      "outputs": [
        {
          "output_type": "stream",
          "name": "stdout",
          "text": [
            "(-12, 9, 1, 6, -4)\n",
            "(-6, -9, 11, 1, 3)\n",
            "(-8, 9, 11, -7, -5)\n",
            "(-3, 2, -2, 7, -4)\n",
            "(-2, 3, -8, 1, 6)\n",
            "(9, -8, 1, 3, -5)\n",
            "(-3, 11, -5, 6, -9)\n",
            "(6, 1, 3, -3, -7)\n",
            "(-9, -2, 6, 9, -4)\n",
            "(3, -6, 9, 2, -8)\n",
            "(1, 11, 7, -7, -12)\n",
            "(-4, 1, 2, -8, 9)\n",
            "(7, -4, 2, -8, 3)\n",
            "(9, -5, -2, -4, 2)\n",
            "(6, -6, -5, -4, 9)\n",
            "(-2, 6, 2, 1, -7)\n",
            "(-12, 9, 7, 1, -5)\n",
            "(3, -9, 1, -6, 11)\n",
            "(-8, -4, 2, 9, 1)\n",
            "(7, 2, 6, -3, -12)\n",
            "(-4, -5, -9, 7, 11)\n",
            "(-4, 6, 3, -7, 2)\n",
            "(-2, 7, 2, -8, 1)\n",
            "\n",
            "Total Sets:  23\n"
          ]
        },
        {
          "output_type": "stream",
          "name": "stderr",
          "text": [
            "<ipython-input-5-e5b06b973959>:23: DeprecationWarning: Sampling from a set deprecated\n",
            "since Python 3.9 and will be removed in a subsequent version.\n",
            "  Chromosome = r.sample(Set,SetSize)\n"
          ]
        }
      ]
    },
    {
      "cell_type": "markdown",
      "metadata": {
        "id": "stxrIcZtk4LT"
      },
      "source": [
        "---\n",
        "### **1.6 Complete Program with sorting**\n",
        "---"
      ]
    },
    {
      "cell_type": "code",
      "metadata": {
        "colab": {
          "base_uri": "https://localhost:8080/"
        },
        "outputId": "1cd1c361-7c8f-474b-ba5e-a7bbb7790274",
        "id": "zzblepy0k4LU"
      },
      "source": [
        "#-------------------------------------------------------------\n",
        "# Step 1: Library inclusion\n",
        "#-------------------------------------------------------------\n",
        "import random as r\n",
        "\n",
        "\n",
        "#-------------------------------------------------------------\n",
        "# Step 2: Parameter Setting\n",
        "#-------------------------------------------------------------\n",
        "Set         = set([-12, -3, -6, 7, 2, -2, 6, 3, 9, -7, -5, -8, 1, 11, -9, -4])\n",
        "SetSize     = 5\n",
        "ResultList  = set()    # Store Result List i.e. list of sets whose sum is zero\n",
        "Iterations  = 1000   # Number of Inerations\n",
        "\n",
        "\n",
        "#-------------------------------------------------------------\n",
        "# Step3: Start Program\n",
        "#-------------------------------------------------------------\n",
        "\n",
        "# Loop till number of Iterations\n",
        "for i in range(Iterations):\n",
        "    # Select number of elements from Set\n",
        "    Chromosome = r.sample(Set,SetSize)\n",
        "    Chromosome.sort()\n",
        "\n",
        "    # Sum the number of elements in the Chromosome\n",
        "    if sum(Chromosome) == 0:\n",
        "        ResultList.add(tuple(Chromosome))\n",
        "\n",
        "# Print all the sets whose sum is zero\n",
        "for r in ResultList:\n",
        "\tprint (r)\n",
        "\n",
        "# Print total sets\n",
        "print (\"\\nTotal Sets: \", len(ResultList))\n"
      ],
      "execution_count": 6,
      "outputs": [
        {
          "output_type": "stream",
          "name": "stdout",
          "text": [
            "(-12, -6, 3, 6, 9)\n",
            "(-7, -4, -2, 6, 7)\n",
            "(-7, -4, -3, 3, 11)\n",
            "(-5, -4, 1, 2, 6)\n",
            "(-12, -2, 1, 6, 7)\n",
            "(-7, -4, 2, 3, 6)\n",
            "(-8, -6, 1, 6, 7)\n",
            "(-7, -4, 1, 3, 7)\n",
            "(-9, -5, 2, 3, 9)\n",
            "(-6, -4, 1, 3, 6)\n",
            "(-12, 1, 2, 3, 6)\n",
            "(-8, -3, -2, 6, 7)\n",
            "(-4, -2, 1, 2, 3)\n",
            "(-7, -3, -2, 3, 9)\n",
            "(-6, -5, -3, 3, 11)\n",
            "(-6, -5, -2, 2, 11)\n",
            "(-8, -4, -2, 3, 11)\n",
            "(-8, -6, 1, 2, 11)\n",
            "(-7, -5, 1, 2, 9)\n",
            "(-9, -6, -2, 6, 11)\n",
            "(-9, -7, 1, 6, 9)\n",
            "(-5, -4, -2, 2, 9)\n",
            "(-6, -4, -2, 1, 11)\n",
            "(-7, -6, -4, 6, 11)\n",
            "(-7, -6, -5, 7, 11)\n",
            "(-8, -5, -3, 7, 9)\n",
            "(-8, -6, 2, 3, 9)\n",
            "\n",
            "Total Sets:  27\n"
          ]
        },
        {
          "output_type": "stream",
          "name": "stderr",
          "text": [
            "<ipython-input-6-74199e36c2e7>:23: DeprecationWarning: Sampling from a set deprecated\n",
            "since Python 3.9 and will be removed in a subsequent version.\n",
            "  Chromosome = r.sample(Set,SetSize)\n"
          ]
        }
      ]
    },
    {
      "cell_type": "markdown",
      "metadata": {
        "id": "Kaevs6ROim18"
      },
      "source": [
        "---\n",
        "####**2. Problem Statement:**\n",
        "Find all the subsets from a set of numbers whose sum is zero.\n",
        "\n",
        "####**Constraint: Subset size must be 3 to 6 only**\n",
        "Set={-12, -3, -6, 7, 2, -2, 6, 3, 9, -7, -5, -8, 1, 11, -9, -4}\n",
        "\n",
        "---"
      ]
    },
    {
      "cell_type": "code",
      "metadata": {
        "colab": {
          "base_uri": "https://localhost:8080/"
        },
        "id": "XmPJbrOXim19",
        "outputId": "6cac99f6-88e5-496e-dc48-2e52704986b3"
      },
      "source": [
        "#-------------------------------------------------------------\n",
        "# Step 1: Library inclusion\n",
        "#-------------------------------------------------------------\n",
        "import random as r\n",
        "\n",
        "\n",
        "#-------------------------------------------------------------\n",
        "# Step 2: Parameter Setting\n",
        "#-------------------------------------------------------------\n",
        "Set         = set([-12, -3, -6, 7, 2, -2, 6, 3, 9, -7, -5, -8, 1, 11, -9, -4])\n",
        "SetLB       = 3\n",
        "SetUB       = 6\n",
        "ResultList  = set()    # Store Result List i.e. list of sets whose sum is zero\n",
        "Iterations  = 1000   # Number of Inerations\n",
        "\n",
        "\n",
        "#-------------------------------------------------------------\n",
        "# Step3: Start Program\n",
        "#-------------------------------------------------------------\n",
        "\n",
        "# Loop till number of Iterations\n",
        "for i in range(Iterations):\n",
        "    # Select set size randomly\n",
        "    SetSize = r.randint(SetLB,SetUB)\n",
        "\n",
        "    # Select number of elements from Set\n",
        "    Chromosome = r.sample(Set,SetSize)\n",
        "    Chromosome.sort()\n",
        "\n",
        "    # Sum the number of elements in the Chromosome\n",
        "    if sum(Chromosome) == 0:\n",
        "        ResultList.add(tuple(Chromosome))\n",
        "\n",
        "# Print all the sets whose sum is zero\n",
        "for r in ResultList:\n",
        "\tprint (r)\n",
        "\n",
        "# Print total sets\n",
        "print (\"\\nTotal Sets: \", len(ResultList))\n"
      ],
      "execution_count": 7,
      "outputs": [
        {
          "output_type": "stream",
          "name": "stdout",
          "text": [
            "(-12, -6, 1, 6, 11)\n",
            "(-9, -8, 2, 6, 9)\n",
            "(-9, 2, 7)\n",
            "(-5, 2, 3)\n",
            "(-7, -3, 1, 9)\n",
            "(-7, -6, -2, 6, 9)\n",
            "(-4, 1, 3)\n",
            "(-9, -7, -6, 2, 9, 11)\n",
            "(-12, -7, -5, 6, 7, 11)\n",
            "(-7, -2, 9)\n",
            "(-6, -4, 1, 9)\n",
            "(-7, -5, 2, 3, 7)\n",
            "(-8, 1, 7)\n",
            "(-7, -4, 11)\n",
            "(-9, -2, 11)\n",
            "(-6, -3, 9)\n",
            "(-9, -6, -4, 1, 7, 11)\n",
            "(-5, -2, 7)\n",
            "(-8, -4, 2, 3, 7)\n",
            "(-6, -5, 11)\n",
            "(-9, -3, -2, 1, 2, 11)\n",
            "(-9, -6, -5, 3, 6, 11)\n",
            "(-12, -6, 2, 3, 6, 7)\n",
            "(-7, 1, 6)\n",
            "(-12, -7, -2, 3, 7, 11)\n",
            "(-4, -3, 7)\n",
            "(-8, -4, 1, 2, 3, 6)\n",
            "\n",
            "Total Sets:  27\n"
          ]
        },
        {
          "output_type": "stream",
          "name": "stderr",
          "text": [
            "<ipython-input-7-c329ea93fb8b>:27: DeprecationWarning: Sampling from a set deprecated\n",
            "since Python 3.9 and will be removed in a subsequent version.\n",
            "  Chromosome = r.sample(Set,SetSize)\n"
          ]
        }
      ]
    }
  ]
}